{
 "cells": [
  {
   "cell_type": "code",
   "execution_count": 1,
   "metadata": {},
   "outputs": [],
   "source": [
    "import numpy as np\n",
    "import pandas as pd\n",
    "import torch\n",
    "from tqdm import tqdm\n",
    "\n",
    "from torchsummary import summary\n",
    "from cnn_api import CNN\n",
    "from torch.utils.data import DataLoader, TensorDataset"
   ]
  },
  {
   "cell_type": "code",
   "execution_count": 4,
   "metadata": {},
   "outputs": [
    {
     "name": "stdout",
     "output_type": "stream",
     "text": [
      "Model INIT Begin\n",
      "Model loaded from disk.\n",
      "Tensors loaded from disk.\n",
      "CNN INIT SUCCESSFUL: 200\n"
     ]
    }
   ],
   "source": [
    "cnn = CNN(architecture='deep-wide',\n",
    "          input_tensors=\"/Users/kjams/Desktop/research/cnn_api/app/utils/data/label_tensors.pt\",\n",
    "          model_path='/Users/kjams/Desktop/research/cnn_api/app/utils/data/model_11_15_dw.pth')"
   ]
  },
  {
   "cell_type": "code",
   "execution_count": null,
   "metadata": {},
   "outputs": [
    {
     "name": "stdout",
     "output_type": "stream",
     "text": [
      "tensor([[ 0.5518, -0.9794,  1.6903, -2.7619]])\n"
     ]
    },
    {
     "data": {
      "text/plain": [
       "('Pre', 2)"
      ]
     },
     "execution_count": 7,
     "metadata": {},
     "output_type": "execute_result"
    }
   ],
   "source": [
    "cnn.predict_image(path_to_image='/Users/kjams/Desktop/research/health_informatics/app/data/stages/Early/WBC-Malignant-Early-038.jpg')"
   ]
  },
  {
   "cell_type": "code",
   "execution_count": null,
   "metadata": {},
   "outputs": [],
   "source": []
  }
 ],
 "metadata": {
  "kernelspec": {
   "display_name": "cancer_app",
   "language": "python",
   "name": "python3"
  },
  "language_info": {
   "codemirror_mode": {
    "name": "ipython",
    "version": 3
   },
   "file_extension": ".py",
   "mimetype": "text/x-python",
   "name": "python",
   "nbconvert_exporter": "python",
   "pygments_lexer": "ipython3",
   "version": "3.9.20"
  }
 },
 "nbformat": 4,
 "nbformat_minor": 2
}
