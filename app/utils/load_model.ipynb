{
 "cells": [
  {
   "cell_type": "code",
   "execution_count": 1,
   "metadata": {},
   "outputs": [],
   "source": [
    "import numpy as np\n",
    "import pandas as pd\n",
    "import torch\n",
    "from tqdm import tqdm\n",
    "\n",
    "from torchsummary import summary\n",
    "from cnn_api import CNN\n",
    "from torch.utils.data import DataLoader, TensorDataset"
   ]
  },
  {
   "cell_type": "code",
   "execution_count": 5,
   "metadata": {},
   "outputs": [
    {
     "name": "stdout",
     "output_type": "stream",
     "text": [
      "Model INIT Begin\n",
      "Model loaded from disk.\n",
      "Tensors loaded from disk.\n",
      "CNN INIT SUCCESSFUL: 200\n"
     ]
    }
   ],
   "source": [
    "cnn = CNN(architecture='deep-wide',\n",
    "          input_tensors=\"/Users/kjams/Desktop/research/cnn_api/app/utils/data/label_tensors.pt\",\n",
    "          model_path='/Users/kjams/Desktop/research/cnn_api/app/utils/data/model_11_15_dw.pth')"
   ]
  },
  {
   "cell_type": "code",
   "execution_count": 9,
   "metadata": {},
   "outputs": [],
   "source": [
    "# Convert the image_tensors and label_tensors to numpy arrays for splitting\n",
    "def test_model(cnn, img_tensor_path='/Users/kjams/Desktop/research/health_informatics/app/utils/data/image_tensors.pt'):\n",
    "    '''\n",
    "    Meow\n",
    "    '''\n",
    "    images = torch.load(img_tensor_path, weights_only=True)\n",
    "    images = torch.tensor(images.numpy())\n",
    "\n",
    "    labels = torch.tensor(cnn.label_tensors.numpy())\n",
    "    # Create TensorDataset for train and test data\n",
    "    test_dataset = TensorDataset(images, labels)\n",
    "\n",
    "    test_dataloader = DataLoader(\n",
    "        test_dataset, batch_size=32, shuffle=False)\n",
    "\n",
    "    cnn.model.eval()  # Set the model to evaluation mode\n",
    "    total_correct = 0\n",
    "    total_samples = 0\n",
    "\n",
    "    with torch.no_grad():  # No gradients needed for evaluation\n",
    "        for img_tensors, label_tensors in tqdm(test_dataloader, total=len(test_dataloader)):\n",
    "\n",
    "            # Forward pass\n",
    "            output = cnn.model(img_tensors)\n",
    "\n",
    "            # Get predictions (e.g., using argmax for classification)\n",
    "            _, predicted = torch.max(output, 1)\n",
    "\n",
    "            # Track the number of correct predictions\n",
    "            total_samples += label_tensors.size(0)\n",
    "            total_correct += (predicted == label_tensors).sum().item()\n",
    "\n",
    "        # Calculate test accuracy after each epoch\n",
    "    accuracy = 100 * total_correct / total_samples\n",
    "    print(f\"Test Accuracy: {accuracy:.2f}%\")"
   ]
  },
  {
   "cell_type": "code",
   "execution_count": 10,
   "metadata": {},
   "outputs": [
    {
     "name": "stderr",
     "output_type": "stream",
     "text": [
      "100%|██████████| 193/193 [04:57<00:00,  1.54s/it]"
     ]
    },
    {
     "name": "stdout",
     "output_type": "stream",
     "text": [
      "Test Accuracy: 94.12%\n"
     ]
    },
    {
     "name": "stderr",
     "output_type": "stream",
     "text": [
      "\n"
     ]
    }
   ],
   "source": [
    "test_model(cnn)"
   ]
  },
  {
   "cell_type": "code",
   "execution_count": null,
   "metadata": {},
   "outputs": [],
   "source": [
    "cnn.predict_image(path_to_image='')"
   ]
  }
 ],
 "metadata": {
  "kernelspec": {
   "display_name": "cancer_app",
   "language": "python",
   "name": "python3"
  },
  "language_info": {
   "codemirror_mode": {
    "name": "ipython",
    "version": 3
   },
   "file_extension": ".py",
   "mimetype": "text/x-python",
   "name": "python",
   "nbconvert_exporter": "python",
   "pygments_lexer": "ipython3",
   "version": "3.9.20"
  }
 },
 "nbformat": 4,
 "nbformat_minor": 2
}
